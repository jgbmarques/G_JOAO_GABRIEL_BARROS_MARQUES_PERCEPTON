{
 "cells": [
  {
   "cell_type": "markdown",
   "id": "5116f71e",
   "metadata": {},
   "source": [
    "# Trabalho sobre Perceptron em Redes Neurais Artificiais\n",
    "\n",
    "Objetivo: Criar um material educacional em formato Jupyter Notebook (.ipynb) abordando os fundamentos do Perceptron, com explicações claras, fórmulas, gráficos, animações e códigos implementados manualmente (sem bibliotecas externas para o Perceptron)."
   ]
  },
  {
   "cell_type": "markdown",
   "id": "e89107fc",
   "metadata": {},
   "source": [
    "# 1-Introdução ao modelo de Perceptron\n",
    "\n",
    "## 1.1-Explicação conceitual\n",
    "O Perceptron é um dos algoritmos de aprendizado de máquina supervisionado mais básicos, proposto por Frank Rosenblatt em 1957. Ele é um classificador linear binário. Isso significa que sua função principal é separar duas classes de dados usando uma linha em duas dimensões, ou um hiperplano em dimensões maiores. O objetivo é encontrar essa fronteira de decisão linear ideal. Ele foi inspirado no neurônio biológico e a sua ideia principal era criar um modelo computacional que pudesse aprender a tomar decisões, assim como um cérebro aprende.\n",
    "\n",
    "### Inspiração Biológica\n",
    "Imagine um neurônio no seu cérebro. Ele recebe sinais de outros neurônios através de \"braços\" chamados dendritos. Esses sinais passam por conexões chamadas sinapses, que podem ser mais fortes ou mais fracas. Se a soma dos sinais que chegam ao neurônio for forte o suficiente, ele \"dispara\" e envia um sinal para outros neurônios através de um \"fio\" chamado axônio.\n",
    "\n",
    "O Perceptron tenta imitar esse processo da seguinte forma:\n",
    "\n",
    "*   **Entradas (Inputs):** Assim como os dendritos recebem sinais, o Perceptron recebe múltiplas entradas. Cada entrada representa uma informação ou característica do que estamos tentando classificar (por exemplo, se estamos tentando classificar fotos de maçãs e bananas, as entradas poderiam ser a cor e o formato da fruta).\n",
    "*   **Pesos (Weights):** Cada entrada tem um peso associado a ela (análogo à força das sinapses). Esses pesos indicam a importância de cada entrada para a decisão do Perceptron. Um peso maior significa que essa entrada tem uma influência maior.\n",
    "*   **Soma Ponderada:** O Perceptron multiplica cada entrada pelo seu peso correspondente e soma todos esses resultados. Isso é como o neurônio biológico somando os sinais que recebe.\n",
    "*   **Bias (Limiar):** É adicionado um valor chamado bias (ou limiar) à soma ponderada. O bias determina o quão fácil é para o Perceptron \"disparar\". Pense nele como um valor mínimo que a soma ponderada precisa atingir para que o Perceptron produza uma saída. No neurônio biológico, isso seria o limiar de ativação.\n",
    "*   **Função de Ativação:** O resultado da soma ponderada mais o bias passa por uma função de ativação. A função de ativação original do Perceptron era uma função degrau. Isso significa que se o resultado da soma for maior que um certo valor (determinado pelo bias e pela função), a saída do Perceptron é um valor (por exemplo, 1, representando uma classe). Caso contrário, a saída é outro valor (por exemplo, 0, representando outra classe). É como o neurônio decidindo se \"dispara\" ou não.\n",
    "\n",
    "### O Processo de Aprendizagem\n",
    "A parte crucial do Perceptron é como ele aprende a tomar as decisões corretas. Inicialmente, os pesos e o bias podem ser definidos de forma aleatória, já que isso permite que eles aprendam a detectar diferentes padrões nos dados. O processo de aprendizagem acontece da seguinte maneira:\n",
    "\n",
    "1.  **Apresentação de Dados:** Mostramos ao Perceptron muitos exemplos dos dados que queremos que ele aprenda a classificar. Cada exemplo tem suas entradas (características) e a resposta correta (o \"rótulo\" da classe).\n",
    "2.  **Previsão:** O Perceptron recebe as entradas de um exemplo, calcula a soma ponderada e aplica a função de ativação para fazer uma previsão sobre a classe a que esse exemplo pertence.\n",
    "3.  **Comparação com a Resposta Correta:** Comparamos a previsão do Perceptron com a resposta correta que sabemos para aquele exemplo.\n",
    "4.  **Ajuste dos Pesos e Bias:** Se a previsão estiver errada, o Perceptron ajusta seus pesos e o bias. A ideia é que o ajuste seja feito de forma que, na próxima vez que um exemplo semelhante for apresentado, a previsão tenha mais chances de ser correta. A regra de aprendizado do Perceptron original era simples: se ele classificasse incorretamente, os pesos seriam ajustados na direção que diminuiria o erro. Por exemplo, se ele classificasse um exemplo como \"maçã\" quando era \"banana\", os pesos associados às características de \"banana\" seriam aumentados, e os pesos associados às características de \"maçã\" seriam diminuídos. O bias também seria ajustado para tornar a ativação mais ou menos provável.\n",
    "5.  **Repetição:** Esse processo de apresentar exemplos, fazer previsões, comparar e ajustar os pesos e o bias é repetido muitas vezes (epochs). O objetivo é que, a cada repetição, o Perceptron melhore suas previsões e se torne capaz de classificar corretamente os dados, mesmo aqueles que ele nunca viu antes.\n",
    "\n",
    "Esses são alguns dos conceitos fundamentais por trás do Perceptron, sua inspiração e funcionamento geral, nas próximas sessões adentraremos mais em sua explicação. Vale ressaltar ainda que o Perceptron só consegue lidar com problemas linearmente separáveis já que sua fronteira de decisão é sempre um hiperplano (uma linha reta em duas dimensões, um plano em três dimensões e assim por diante). Consequentemente, se um conjunto de dados não pode ser dividido em classes por um hiperplano, ou seja, é não linearmente separável, um único Perceptron não conseguirá encontrar uma solução para o problema de classificação."
   ]
  },
  {
   "cell_type": "markdown",
   "id": "4ec71a4d",
   "metadata": {},
   "source": [
    "## 1.2-Estrutura Básica do Perceptron \n",
    "Como visto na sessão anterior, a estrutura de um Perceptron pode ser decomposta nos seguintes componentes:\n",
    "\n",
    "1.  **Entradas ($x_i$):** São os valores numéricos que representam as características da amostra que queremos classificar. Se tivermos $n$ características, teremos $n$ entradas: $x_1, x_2, ..., x_n$.\n",
    "2.  **Pesos ($w_i$):** Cada entrada $x_i$ tem um peso $w_i$ associado. O peso determina a influência que a respectiva entrada terá na saída do neurônio. Pesos maiores (em módulo) indicam maior importância. Os pesos são os parâmetros que o Perceptron aprende durante o treinamento.\n",
    "3.  **Bias ($b$):** É um valor adicional que não está associado a nenhuma entrada específica. Ele atua como um limiar ajustável. Matematicamente, ele desloca a fronteira de decisão, permitindo que a linha/plano de separação não precise necessariamente passar pela origem. Frequentemente, o bias é tratado como um peso $w_0$ associado a uma entrada fixa $x_0 = 1$.\n",
    "4.  **Função de Soma ($u$):** Calcula a soma ponderada das entradas mais o bias. É o resultado da combinação linear das entradas e pesos:\n",
    "    $$ u = \\sum_{i=1}^{n} (w_i \\cdot x_i) + b = (w_1 x_1 + w_2 x_2 + ... + w_n x_n) + b $$\n",
    "5.  **Função de Ativação ($f(u)$):** Aplica uma transformação ao resultado da soma ($u$) para produzir a saída final do neurônio ($\\hat{y}$). Para uma função de ativação degrau, a saída do Perceptron é:\n",
    "    $$ \\hat{y} = f(u) = \\begin{cases} 1 & \\text{se } u \\ge \\theta \\\\ 0 & \\text{se } u < \\theta \\end{cases} $$\n",
    "    Onde $\\theta$ é um limiar (threshold). Frequentemente, o limiar é incorporado ao bias, e a comparação é feita com 0:\n",
    "    $$ \\hat{y} = f(u) = \\begin{cases} 1 & \\text{se } u \\ge 0 \\\\ 0 & \\text{se } u < 0 \\end{cases} $$\n",
    "    Esta é a forma que usaremos.\n",
    "\n",
    "6.  **Saída ($\\hat{y}$):** O valor final produzido pelo neurônio após a aplicação da função de ativação (0 ou 1 no caso binário).\n",
    "\n",
    "**Representação Gráfica do Perceptron:**\n"
   ]
  },
  {
   "cell_type": "code",
   "execution_count": 15,
   "id": "1f2c0e26",
   "metadata": {},
   "outputs": [
    {
     "data": {
      "image/png": "[encoded data removed]",
      "text/plain": [
       "<Figure size 600x400 with 1 Axes>"
      ]
     },
     "metadata": {},
     "output_type": "display_data"
    }
   ],
   "source": [
    "import matplotlib.pyplot as plt\n",
    "\n",
    "fig, ax = plt.subplots(figsize=(6, 4))\n",
    "# Entradas\n",
    "ax.text(0.1, 0.8, '$x_1$', ha='center', va='center', fontsize=12)\n",
    "ax.text(0.1, 0.6, '...', ha='center', va='center', fontsize=12)\n",
    "ax.text(0.1, 0.4, '$x_n$', ha='center', va='center', fontsize=12)\n",
    "ax.text(0.1, 0.2, 'Bias', ha='center', va='center', fontsize=12) \n",
    "# Neurônio (Soma e Ativação)\n",
    "ax.add_patch(plt.Circle((0.5, 0.6), 0.1, fill=True, color='lightblue'))\n",
    "ax.text(0.5, 0.6, 'Σ', ha='center', va='center', fontsize=15)\n",
    "ax.add_patch(plt.Rectangle((0.7, 0.55), 0.1, 0.1, fill=True, color='lightgreen'))\n",
    "ax.text(0.75, 0.6, '$f(u)$', ha='center', va='center', fontsize=10)\n",
    "# Setas e Pesos\n",
    "ax.arrow(0.15, 0.8, 0.23, -0.15, head_width=0.02, head_length=0.03, fc='black', ec='black')\n",
    "ax.text(0.25, 0.75, '$w_1$', fontsize=10)\n",
    "ax.arrow(0.15, 0.4, 0.23, 0.15, head_width=0.02, head_length=0.03, fc='black', ec='black')\n",
    "ax.text(0.25, 0.50, '$w_n$', fontsize=10)\n",
    "ax.arrow(0.15, 0.2, 0.26, 0.3, head_width=0.02, head_length=0.03, fc='black', ec='black')\n",
    "ax.text(0.25, 0.25, '$b$', fontsize=10)\n",
    "# Conexões internas e Saída\n",
    "ax.arrow(0.6, 0.6, 0.07, 0, head_width=0.02, head_length=0.03, fc='black', ec='black')\n",
    "ax.text(0.63, 0.63, '$u$', fontsize=10)\n",
    "ax.arrow(0.8, 0.6, 0.1, 0, head_width=0.02, head_length=0.03, fc='black', ec='black')\n",
    "ax.text(0.95, 0.6, '$\\hat{y}$', ha='center', va='center', fontsize=12)\n",
    "\n",
    "ax.set_xlim(0, 1)\n",
    "ax.set_ylim(0, 1)\n",
    "ax.axis('off')\n",
    "plt.title(\"Estrutura Básica do Perceptron\")\n",
    "plt.show()"
   ]
  },
  {
   "cell_type": "markdown",
   "id": "d07464ff",
   "metadata": {},
   "source": [
    "\n",
    "## 1.3-Fórmulas Matemáticas\n",
    "Nessa seção vamos abordar o desenvolvimento matemático e a implementação do Perceptron.\n",
    "\n",
    "### a. Multiplicação Matricial/Vetorial\n",
    "A multiplicação matricial/vetorial no Perceptron refere-se ao cálculo do produto escalar entre os vetores de entrada ($x$) e pesos ($w$), seguido pela adição do bias ($b$). Este processo é fundamental para computar a ativação do neurônio antes de aplicar a função de ativação. A seguir vamos realizar sua demostração para os seguintes componentes:\n",
    "\n",
    "*   **Entrada ($x$):** Vetor de dimensão $n$:\n",
    "$$ x = [x_1, x_2, \\dots, x_n] $$\n",
    "\n",
    "* **Pesos ($w$):** Vetor de dimensão $n$:  \n",
    "$$ w = [w_1, w_2, \\dots, w_n] $$\n",
    "\n",
    "* **Bias ($b$):** Escalar que ajusta a saída independentemente das entradas.\n",
    "\n",
    "Realizando o cálculo do produto escalar entre os vetores $x$ e $w$, temos:\n",
    "\n",
    "$$\n",
    "x \\cdot w = \\sum_{i=1}^{n} (w_i \\cdot x_i) = w_1 x_1 + w_2 x_2 + \\dots + w_n x_n\n",
    "$$\n",
    "\n",
    "Dessa forma, adicionando o bias $b$, temos o valor de ativação linear $u$ igual à:\n",
    "\n",
    "$$\n",
    "u = \\sum_{i=1}^{n} (w_i \\cdot x_i) + b = (w_1 x_1 + w_2 x_2 + \\dots + w_n x_n) + b\n",
    "$$\n",
    "\n",
    "Que é a mesma já definida anteriormente. \n",
    "\n",
    "**Implementação:**\n"
   ]
  },
  {
   "cell_type": "code",
   "execution_count": null,
   "id": "74eeff04",
   "metadata": {},
   "outputs": [
    {
     "name": "stdout",
     "output_type": "stream",
     "text": [
      "Exemplo calcular_u: Entradas=[0.5 1.5], Pesos=[ 0.8 -0.2], Bias=0.1 => u=0.2000\n"
     ]
    }
   ],
   "source": [
    "import numpy as np \n",
    "\n",
    "# Implementação da função para calcular u \n",
    "def calcular_u(entradas, pesos, bias):\n",
    "    \"\"\" Calcula a soma ponderada + bias \"\"\"\n",
    "    # entradas: lista ou array numpy [x1, x2, ..., xn]\n",
    "    # pesos: lista ou array numpy [w1, w2, ..., wn]\n",
    "    # bias: float\n",
    "    \n",
    "    # Pré-requisito do produdo escalar: Os dois vetores devem ter o mesmo número de elementos (a mesma dimensão).\n",
    "    if len(entradas) != len(pesos):\n",
    "        raise ValueError(\"Número de entradas e pesos deve ser igual.\")\n",
    "\n",
    "    u = 0.0\n",
    "    # Loop for para a multiplicação e soma\n",
    "    for i in range(len(entradas)):\n",
    "        u += entradas[i] * pesos[i]\n",
    "    u += bias # Adiciona o bias\n",
    "    return u\n",
    "\n",
    "# Exemplo rápido de utilização \n",
    "exemplo_entradas = np.array([0.5, 1.5])\n",
    "exemplo_pesos = np.array([0.8, -0.2])\n",
    "exemplo_bias = 0.1\n",
    "u_calculado = calcular_u(exemplo_entradas, exemplo_pesos, exemplo_bias)\n",
    "# Esperado: (0.5 * 0.8) + (1.5 * -0.2) + 0.1 = 0.4 - 0.3 + 0.1 = 0.2\n",
    "print(f\"Exemplo calcular_u: Entradas={exemplo_entradas}, Pesos={exemplo_pesos}, Bias={exemplo_bias} => u={u_calculado:.4f}\")"
   ]
  },
  {
   "cell_type": "markdown",
   "id": "5d2aaac4",
   "metadata": {},
   "source": [
    "### b. Função de Ativação\n",
    "A função de ativação degrau unitário é crucial no Perceptron, pois transforma o valor de ativação $u$ (que é contínuo) em uma saída binária, permitindo decisões do tipo \"sim/não\" ou \"classe A/classe B\", como já vimos anteriormente. Podemos explicar também da seguinte forma, a combinação linear $u = w \\cdot x + b$ define uma linha, um plano ou um hiperplano e equação $w \\cdot x + b = 0$ representa a fronteira de decisão linear. A função degrau usa essa fronteira para tomar a decisão. Todos os pontos de entrada $x $ que resultam em $u \\geq 0$ (ou seja, estão de um lado da fronteira, ou exatamente sobre ela) são classificados como 1. Todos os pontos que resultam em $u < 0$ (estão do outro lado da fronteira) são classificados como 0. \n",
    "\n",
    "**Implementação:**"
   ]
  },
  {
   "cell_type": "code",
   "execution_count": 3,
   "id": "7df18ce3",
   "metadata": {},
   "outputs": [
    {
     "name": "stdout",
     "output_type": "stream",
     "text": [
      "Teste degrau(0.2) = 1\n",
      "Teste degrau(0) = 1\n",
      "Teste degrau(-0.1) = 0\n"
     ]
    }
   ],
   "source": [
    "def funcao_degrau(u):\n",
    "    \"\"\" Função de ativação degrau unitário \"\"\"\n",
    "    return 1 if u >= 0 else 0\n",
    "\n",
    "# Exemplo\n",
    "print(f\"Teste degrau(0.2) = {funcao_degrau(0.2)}\")\n",
    "print(f\"Teste degrau(0) = {funcao_degrau(0)}\")\n",
    "print(f\"Teste degrau(-0.1) = {funcao_degrau(-0.1)}\")"
   ]
  },
  {
   "cell_type": "markdown",
   "id": "fc231a92",
   "metadata": {},
   "source": [
    "### c. Função de Custo (Erro)\n",
    "\n",
    "Para treinar o Perceptron, precisamos de uma forma de medir o quão errada foi a sua previsão. A regra de aprendizado do Perceptron usa um erro simples. O erro é a diferença entre a saída desejada (o rótulo verdadeiro da amostra, $y$) e a saída predita pelo Perceptron ($\\hat{y}$). Utilizando a função degrau como função de ativação nos vamos ter:\n",
    "*   **Fórmula (Erro Absoluto Simples):**\n",
    "    $$ E = y - \\hat{y} $$\n",
    "    Onde:\n",
    "    *   $y$: O valor esperado (rótulo real, 0 ou 1).\n",
    "    *   $\\hat{y}$: O valor predito pelo Perceptron (saída da função degrau, 0 ou 1).\n",
    "*   **Possíveis Valores do Erro:**\n",
    "    *   Se $y=1$ e $\\hat{y}=0$ (erro), então $E = 1 - 0 = 1$.\n",
    "    *   Se $y=0$ e $\\hat{y}=1$ (erro), então $E = 0 - 1 = -1$.\n",
    "    *   Se $y=\\hat{y}$ (acerto), então $E = 0$.\n",
    "\n",
    "**Implementação:**"
   ]
  },
  {
   "cell_type": "code",
   "execution_count": null,
   "id": "713bca7c",
   "metadata": {},
   "outputs": [],
   "source": [
    "def calcular_erro_absoluto(y_desejado, y_predito):\n",
    "         \"\"\" Calcula o erro absoluto simples. \"\"\"\n",
    "         return y_desejado - y_predito"
   ]
  }
 ],
 "metadata": {
  "kernelspec": {
   "display_name": "enviromment",
   "language": "python",
   "name": "python3"
  },
  "language_info": {
   "codemirror_mode": {
    "name": "ipython",
    "version": 3
   },
   "file_extension": ".py",
   "mimetype": "text/x-python",
   "name": "python",
   "nbconvert_exporter": "python",
   "pygments_lexer": "ipython3",
   "version": "3.10.16"
  }
 },
 "nbformat": 4,
 "nbformat_minor": 5
}
