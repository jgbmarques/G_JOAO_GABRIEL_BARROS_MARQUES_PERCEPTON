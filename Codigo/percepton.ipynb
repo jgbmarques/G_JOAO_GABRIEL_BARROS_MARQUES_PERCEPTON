{
 "cells": [
  {
   "cell_type": "markdown",
   "id": "5116f71e",
   "metadata": {},
   "source": [
    "# Trabalho sobre Perceptron em Redes Neurais Artificiais\n",
    "\n",
    "Objetivo: Criar um material educacional em formato Jupyter Notebook (.ipynb) abordando os fundamentos do Perceptron, com explicações claras, fórmulas, gráficos, animações e códigos implementados manualmente (sem bibliotecas externas para o Perceptron).\n"
   ]
  }
 ],
 "metadata": {
  "kernelspec": {
   "display_name": "enviromment",
   "language": "python",
   "name": "python3"
  },
  "language_info": {
   "codemirror_mode": {
    "name": "ipython",
    "version": 3
   },
   "file_extension": ".py",
   "mimetype": "text/x-python",
   "name": "python",
   "nbconvert_exporter": "python",
   "pygments_lexer": "ipython3",
   "version": "3.10.16"
  }
 },
 "nbformat": 4,
 "nbformat_minor": 5
}
